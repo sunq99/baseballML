{
 "cells": [
  {
   "cell_type": "code",
   "execution_count": 2,
   "id": "76bc9038-a95d-4ba9-9b01-6722c25b83c4",
   "metadata": {},
   "outputs": [],
   "source": [
    "from sklearn.model_selection import train_test_split"
   ]
  },
  {
   "cell_type": "code",
   "execution_count": 3,
   "id": "7ee24e17-6042-4f44-acfc-de1aa0b884ab",
   "metadata": {},
   "outputs": [],
   "source": [
    "from lightgbm import LGBMClassifier"
   ]
  },
  {
   "cell_type": "code",
   "execution_count": 4,
   "id": "0952d993-fc28-4e64-9f92-0a346ca6e7b0",
   "metadata": {},
   "outputs": [],
   "source": [
    "import numpy as np\n",
    "import pandas as pd\n",
    "from sklearn.metrics import accuracy_score"
   ]
  },
  {
   "cell_type": "code",
   "execution_count": 6,
   "id": "48d83cc6-9eee-48f0-893b-89b98d00e3d8",
   "metadata": {},
   "outputs": [],
   "source": [
    "train_data = pd.read_csv(\"train_data_area.csv\")\n",
    "val_data = pd.read_csv(\"val_data_area.csv\")\n",
    "test_data = pd.read_csv(\"test_data_area.csv\")"
   ]
  },
  {
   "cell_type": "code",
   "execution_count": 14,
   "id": "faf5211c-7e01-4c0b-a4c0-d245d28896bb",
   "metadata": {},
   "outputs": [],
   "source": [
    "X_train = train_data.drop(columns=[\"theta\", \"distance\", \"area\"])\n",
    "y_train = train_data[[\"area\"]]\n",
    "X_val = val_data.drop(columns=[\"theta\", \"distance\", \"area\"])\n",
    "y_val = val_data[[\"area\"]]\n",
    "X_test = test_data.drop(columns=[\"theta\", \"distance\", \"area\"])\n",
    "y_test = test_data[[\"area\"]]"
   ]
  },
  {
   "cell_type": "code",
   "execution_count": 25,
   "id": "88c71d8c-3ecc-44f7-8a12-80a55f2deb44",
   "metadata": {
    "collapsed": true,
    "jupyter": {
     "outputs_hidden": true
    }
   },
   "outputs": [
    {
     "name": "stderr",
     "output_type": "stream",
     "text": [
      "C:\\Users\\NT551_11TH\\anaconda3\\Lib\\site-packages\\sklearn\\preprocessing\\_label.py:97: DataConversionWarning: A column-vector y was passed when a 1d array was expected. Please change the shape of y to (n_samples, ), for example using ravel().\n",
      "  y = column_or_1d(y, warn=True)\n",
      "C:\\Users\\NT551_11TH\\anaconda3\\Lib\\site-packages\\sklearn\\preprocessing\\_label.py:132: DataConversionWarning: A column-vector y was passed when a 1d array was expected. Please change the shape of y to (n_samples, ), for example using ravel().\n",
      "  y = column_or_1d(y, dtype=self.classes_.dtype, warn=True)\n"
     ]
    },
    {
     "name": "stdout",
     "output_type": "stream",
     "text": [
      "[LightGBM] [Info] Auto-choosing row-wise multi-threading, the overhead of testing was 0.003189 seconds.\n",
      "You can set `force_row_wise=true` to remove the overhead.\n",
      "And if memory is not enough, you can set `force_col_wise=true`.\n",
      "[LightGBM] [Info] Total Bins 1525\n",
      "[LightGBM] [Info] Number of data points in the train set: 71855, number of used features: 14\n",
      "[LightGBM] [Info] Start training from score -3.586516\n",
      "[LightGBM] [Info] Start training from score -4.041952\n",
      "[LightGBM] [Info] Start training from score -4.638494\n",
      "[LightGBM] [Info] Start training from score -4.551722\n",
      "[LightGBM] [Info] Start training from score -4.277655\n",
      "[LightGBM] [Info] Start training from score -4.247035\n",
      "[LightGBM] [Info] Start training from score -3.406710\n",
      "[LightGBM] [Info] Start training from score -3.092310\n",
      "[LightGBM] [Info] Start training from score -2.825381\n",
      "[LightGBM] [Info] Start training from score -2.658833\n",
      "[LightGBM] [Info] Start training from score -3.044133\n",
      "[LightGBM] [Info] Start training from score -2.791910\n",
      "[LightGBM] [Info] Start training from score -2.958778\n",
      "[LightGBM] [Info] Start training from score -3.198965\n",
      "[LightGBM] [Info] Start training from score -4.514177\n",
      "[LightGBM] [Info] Start training from score -4.541223\n",
      "[LightGBM] [Info] Start training from score -4.660313\n",
      "[LightGBM] [Info] Start training from score -4.484137\n",
      "[LightGBM] [Info] Start training from score -4.569021\n",
      "[LightGBM] [Info] Start training from score -4.502806\n",
      "[LightGBM] [Info] Start training from score -4.558340\n",
      "[LightGBM] [Info] Start training from score -4.507844\n",
      "[LightGBM] [Info] Start training from score -4.305109\n",
      "[LightGBM] [Info] Start training from score -4.302021\n",
      "[LightGBM] [Info] Start training from score -4.282682\n",
      "[LightGBM] [Info] Start training from score -4.252889\n",
      "[LightGBM] [Info] Start training from score -4.251911\n",
      "[LightGBM] [Info] Start training from score -4.454974\n",
      "[LightGBM] [Info] Start training from score -4.349374\n",
      "[LightGBM] [Info] Start training from score -4.001574\n",
      "[LightGBM] [Info] Start training from score -3.964962\n",
      "[LightGBM] [Info] Start training from score -3.926108\n",
      "[LightGBM] [Info] Start training from score -3.943191\n",
      "[LightGBM] [Info] Start training from score -3.946786\n",
      "[LightGBM] [Info] Start training from score -4.311314\n",
      "[LightGBM] [Info] Start training from score -4.703896\n",
      "[LightGBM] [Info] Start training from score -4.147137\n",
      "[LightGBM] [Info] Start training from score -4.004623\n",
      "[LightGBM] [Info] Start training from score -3.884637\n",
      "[LightGBM] [Info] Start training from score -3.986468\n",
      "[LightGBM] [Info] Start training from score -4.066011\n",
      "[LightGBM] [Info] Start training from score -4.926655\n",
      "[LightGBM] [Info] Start training from score -5.123282\n",
      "[LightGBM] [Info] Start training from score -4.240249\n",
      "[LightGBM] [Info] Start training from score -3.810916\n",
      "[LightGBM] [Info] Start training from score -3.737572\n",
      "[LightGBM] [Info] Start training from score -3.918375\n",
      "[LightGBM] [Info] Start training from score -4.431304\n",
      "[LightGBM] [Info] Start training from score -5.544051\n",
      "Accuracy: 0.2750\n",
      "y_val :     area\n",
      "0    13\n",
      "1    10\n",
      "2    35\n",
      "3    36\n",
      "4    45\n",
      "y_pred :  [13 10 33 39 42]\n"
     ]
    }
   ],
   "source": [
    "# baseline\n",
    "lgbm = LGBMClassifier( n_jobs=-1, random_state=1234)\n",
    "\n",
    "lgbm.fit(X_train, y_train)\n",
    "y_pred = lgbm.predict(X_val)\n",
    "\n",
    "# 정확도 출력\n",
    "accuracy = accuracy_score(y_val, y_pred)\n",
    "print(f\"Accuracy: {accuracy:.4f}\")\n",
    "\n",
    "print(\"y_val : \", y_val[:5])\n",
    "print(\"y_pred : \", y_pred[:5])"
   ]
  },
  {
   "cell_type": "code",
   "execution_count": 33,
   "id": "65e8377c-0c96-4c61-9689-c9f0682e8427",
   "metadata": {},
   "outputs": [
    {
     "name": "stdout",
     "output_type": "stream",
     "text": [
      "y_val :     area\n",
      "0    13\n",
      "1    10\n",
      "2    35\n",
      "3    36\n",
      "4    45\n",
      "5     7\n",
      "6    12\n",
      "7    28\n",
      "8    26\n",
      "9     7\n",
      "y_pred :  [13 10 33 39 42  7 11 27 29 12]\n"
     ]
    }
   ],
   "source": [
    "print(\"y_val : \", y_val[:10])\n",
    "print(\"y_pred : \", y_pred[:10])"
   ]
  },
  {
   "cell_type": "code",
   "execution_count": null,
   "id": "28012a64-75be-430b-b91f-d869afa94073",
   "metadata": {},
   "outputs": [],
   "source": []
  }
 ],
 "metadata": {
  "kernelspec": {
   "display_name": "Python [conda env:base] *",
   "language": "python",
   "name": "conda-base-py"
  },
  "language_info": {
   "codemirror_mode": {
    "name": "ipython",
    "version": 3
   },
   "file_extension": ".py",
   "mimetype": "text/x-python",
   "name": "python",
   "nbconvert_exporter": "python",
   "pygments_lexer": "ipython3",
   "version": "3.12.7"
  }
 },
 "nbformat": 4,
 "nbformat_minor": 5
}
